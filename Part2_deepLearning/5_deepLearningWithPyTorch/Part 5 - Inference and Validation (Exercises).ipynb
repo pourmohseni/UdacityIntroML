{
 "cells": [
  {
   "cell_type": "markdown",
   "metadata": {},
   "source": [
    "# Inference and Validation\n",
    "\n",
    "Now that you have a trained network, you can use it for making predictions. This is typically called **inference**, a term borrowed from statistics. However, neural networks have a tendency to perform *too well* on the training data and aren't able to generalize to data that hasn't been seen before. This is called **overfitting** and it impairs inference performance. To test for overfitting while training, we measure the performance on data not in the training set called the **validation** set. We avoid overfitting through regularization such as dropout while monitoring the validation performance during training. In this notebook, I'll show you how to do this in PyTorch. \n",
    "\n",
    "As usual, let's start by loading the dataset through torchvision. You'll learn more about torchvision and loading data in a later part. This time we'll be taking advantage of the test set which you can get by setting `train=False` here:\n",
    "\n",
    "```python\n",
    "testset = datasets.FashionMNIST('~/.pytorch/F_MNIST_data/', download=True, train=False, transform=transform)\n",
    "```\n",
    "\n",
    "The test set contains images just like the training set. Typically you'll see 10-20% of the original dataset held out for testing and validation with the rest being used for training."
   ]
  },
  {
   "cell_type": "code",
   "execution_count": 1,
   "metadata": {},
   "outputs": [],
   "source": [
    "import torch\n",
    "from torchvision import datasets, transforms\n",
    "\n",
    "# Define a transform to normalize the data\n",
    "transform = transforms.Compose([transforms.ToTensor(),\n",
    "                                transforms.Normalize((0.5, 0.5, 0.5), (0.5, 0.5, 0.5))])\n",
    "# Download and load the training data\n",
    "trainset = datasets.FashionMNIST('~/.pytorch/F_MNIST_data/', download=True, train=True, transform=transform)\n",
    "trainloader = torch.utils.data.DataLoader(trainset, batch_size=64, shuffle=True)\n",
    "\n",
    "# Download and load the test data\n",
    "testset = datasets.FashionMNIST('~/.pytorch/F_MNIST_data/', download=True, train=False, transform=transform)\n",
    "testloader = torch.utils.data.DataLoader(testset, batch_size=64, shuffle=True)"
   ]
  },
  {
   "cell_type": "markdown",
   "metadata": {},
   "source": [
    "Here I'll create a model like normal, using the same one from my solution for part 4."
   ]
  },
  {
   "cell_type": "code",
   "execution_count": 2,
   "metadata": {},
   "outputs": [],
   "source": [
    "from torch import nn, optim\n",
    "import torch.nn.functional as F\n",
    "\n",
    "class Classifier(nn.Module):\n",
    "    def __init__(self):\n",
    "        super().__init__()\n",
    "        self.fc1 = nn.Linear(784, 256)\n",
    "        self.fc2 = nn.Linear(256, 128)\n",
    "        self.fc3 = nn.Linear(128, 64)\n",
    "        self.fc4 = nn.Linear(64, 10)\n",
    "        \n",
    "    def forward(self, x):\n",
    "        # make sure input tensor is flattened\n",
    "        x = x.view(x.shape[0], -1)\n",
    "        \n",
    "        x = F.relu(self.fc1(x))\n",
    "        x = F.relu(self.fc2(x))\n",
    "        x = F.relu(self.fc3(x))\n",
    "        x = F.log_softmax(self.fc4(x), dim=1)\n",
    "        \n",
    "        return x"
   ]
  },
  {
   "cell_type": "markdown",
   "metadata": {},
   "source": [
    "The goal of validation is to measure the model's performance on data that isn't part of the training set. Performance here is up to the developer to define though. Typically this is just accuracy, the percentage of classes the network predicted correctly. Other options are [precision and recall](https://en.wikipedia.org/wiki/Precision_and_recall#Definition_(classification_context)) and top-5 error rate. We'll focus on accuracy here. First I'll do a forward pass with one batch from the test set."
   ]
  },
  {
   "cell_type": "code",
   "execution_count": 3,
   "metadata": {},
   "outputs": [
    {
     "name": "stdout",
     "output_type": "stream",
     "text": [
      "torch.Size([64, 10])\n"
     ]
    }
   ],
   "source": [
    "model = Classifier()\n",
    "\n",
    "images, labels = next(iter(testloader))\n",
    "# Get the class probabilities\n",
    "ps = torch.exp(model(images))\n",
    "# Make sure the shape is appropriate, we should get 10 class probabilities for 64 examples\n",
    "print(ps.shape)"
   ]
  },
  {
   "cell_type": "markdown",
   "metadata": {},
   "source": [
    "With the probabilities, we can get the most likely class using the `ps.topk` method. This returns the $k$ highest values. Since we just want the most likely class, we can use `ps.topk(1)`. This returns a tuple of the top-$k$ values and the top-$k$ indices. If the highest value is the fifth element, we'll get back 4 as the index."
   ]
  },
  {
   "cell_type": "code",
   "execution_count": 5,
   "metadata": {},
   "outputs": [
    {
     "name": "stdout",
     "output_type": "stream",
     "text": [
      "tensor([[ 7],\n",
      "        [ 8],\n",
      "        [ 7],\n",
      "        [ 8],\n",
      "        [ 8]])\n"
     ]
    }
   ],
   "source": [
    "top_p, top_class = ps.topk(1, dim=1)\n",
    "# Look at the most likely classes for the first 10 examples\n",
    "print(top_class[:5,:])"
   ]
  },
  {
   "cell_type": "markdown",
   "metadata": {},
   "source": [
    "Now we can check if the predicted classes match the labels. This is simple to do by equating `top_class` and `labels`, but we have to be careful of the shapes. Here `top_class` is a 2D tensor with shape `(64, 1)` while `labels` is 1D with shape `(64)`. To get the equality to work out the way we want, `top_class` and `labels` must have the same shape.\n",
    "\n",
    "If we do\n",
    "\n",
    "```python\n",
    "equals = top_class == labels\n",
    "```\n",
    "\n",
    "`equals` will have shape `(64, 64)`, try it yourself. What it's doing is comparing the one element in each row of `top_class` with each element in `labels` which returns 64 True/False boolean values for each row."
   ]
  },
  {
   "cell_type": "code",
   "execution_count": 6,
   "metadata": {},
   "outputs": [],
   "source": [
    "equals = top_class == labels.view(*top_class.shape)"
   ]
  },
  {
   "cell_type": "markdown",
   "metadata": {},
   "source": [
    "Now we need to calculate the percentage of correct predictions. `equals` has binary values, either 0 or 1. This means that if we just sum up all the values and divide by the number of values, we get the percentage of correct predictions. This is the same operation as taking the mean, so we can get the accuracy with a call to `torch.mean`. If only it was that simple. If you try `torch.mean(equals)`, you'll get an error\n",
    "\n",
    "```\n",
    "RuntimeError: mean is not implemented for type torch.ByteTensor\n",
    "```\n",
    "\n",
    "This happens because `equals` has type `torch.ByteTensor` but `torch.mean` isn't implemented for tensors with that type. So we'll need to convert `equals` to a float tensor. Note that when we take `torch.mean` it returns a scalar tensor, to get the actual value as a float we'll need to do `accuracy.item()`."
   ]
  },
  {
   "cell_type": "code",
   "execution_count": 7,
   "metadata": {},
   "outputs": [
    {
     "name": "stdout",
     "output_type": "stream",
     "text": [
      "Accuracy: 6.25%\n"
     ]
    }
   ],
   "source": [
    "accuracy = torch.mean(equals.type(torch.FloatTensor))\n",
    "print(f'Accuracy: {accuracy.item()*100}%')"
   ]
  },
  {
   "cell_type": "markdown",
   "metadata": {},
   "source": [
    "The network is untrained so it's making random guesses and we should see an accuracy around 10%. Now let's train our network and include our validation pass so we can measure how well the network is performing on the test set. Since we're not updating our parameters in the validation pass, we can speed up our code by turning off gradients using `torch.no_grad()`:\n",
    "\n",
    "```python\n",
    "# turn off gradients\n",
    "with torch.no_grad():\n",
    "    # validation pass here\n",
    "    for images, labels in testloader:\n",
    "        ...\n",
    "```\n",
    "\n",
    ">**Exercise:** Implement the validation loop below and print out the total accuracy after the loop. You can largely copy and paste the code from above, but I suggest typing it in because writing it out yourself is essential for building the skill. In general you'll always learn more by typing it rather than copy-pasting. You should be able to get an accuracy above 80%."
   ]
  },
  {
   "cell_type": "code",
   "execution_count": 23,
   "metadata": {},
   "outputs": [
    {
     "name": "stdout",
     "output_type": "stream",
     "text": [
      "Epoch:  1 / 30\n",
      "\t Train loss: 0.5179714940980807\n",
      "\t Test loss:  0.43168240785598755\n",
      "\t Accuracy:   84.46457006369427%\n",
      "Epoch:  2 / 30\n",
      "\t Train loss: 0.3910265499467789\n",
      "\t Test loss:  0.4525779187679291\n",
      "\t Accuracy:   84.27547770700637%\n",
      "Epoch:  3 / 30\n",
      "\t Train loss: 0.3580803954477376\n",
      "\t Test loss:  0.38868093490600586\n",
      "\t Accuracy:   86.23606687898089%\n",
      "Epoch:  4 / 30\n",
      "\t Train loss: 0.33130381361984496\n",
      "\t Test loss:  0.36754995584487915\n",
      "\t Accuracy:   86.98248407643312%\n",
      "Epoch:  5 / 30\n",
      "\t Train loss: 0.3120649360708082\n",
      "\t Test loss:  0.38509130477905273\n",
      "\t Accuracy:   86.19625796178345%\n",
      "Epoch:  6 / 30\n",
      "\t Train loss: 0.3001946904448304\n",
      "\t Test loss:  0.38545936346054077\n",
      "\t Accuracy:   86.90286624203821%\n",
      "Epoch:  7 / 30\n",
      "\t Train loss: 0.2949900222318704\n",
      "\t Test loss:  0.3691273331642151\n",
      "\t Accuracy:   87.19148089171973%\n",
      "Epoch:  8 / 30\n",
      "\t Train loss: 0.28353948116715527\n",
      "\t Test loss:  0.35428664088249207\n",
      "\t Accuracy:   87.32085987261146%\n",
      "Epoch:  9 / 30\n",
      "\t Train loss: 0.2725750623799082\n",
      "\t Test loss:  0.40387967228889465\n",
      "\t Accuracy:   87.00238853503186%\n",
      "Epoch:  10 / 30\n",
      "\t Train loss: 0.2698844919946275\n",
      "\t Test loss:  0.36160317063331604\n",
      "\t Accuracy:   87.26114649681529%\n",
      "Epoch:  11 / 30\n",
      "\t Train loss: 0.2560841040308478\n",
      "\t Test loss:  0.3588021695613861\n",
      "\t Accuracy:   87.68909235668791%\n",
      "Epoch:  12 / 30\n",
      "\t Train loss: 0.2562049174470815\n",
      "\t Test loss:  0.3649177551269531\n",
      "\t Accuracy:   87.49004777070064%\n",
      "Epoch:  13 / 30\n",
      "\t Train loss: 0.24642267223121897\n",
      "\t Test loss:  0.36538293957710266\n",
      "\t Accuracy:   87.9578025477707%\n",
      "Epoch:  14 / 30\n",
      "\t Train loss: 0.24170427023173013\n",
      "\t Test loss:  0.3819515109062195\n",
      "\t Accuracy:   88.18670382165605%\n",
      "Epoch:  15 / 30\n",
      "\t Train loss: 0.23959579171418255\n",
      "\t Test loss:  0.3664490580558777\n",
      "\t Accuracy:   87.99761146496814%\n",
      "Epoch:  16 / 30\n",
      "\t Train loss: 0.23944448078396732\n",
      "\t Test loss:  0.3897675573825836\n",
      "\t Accuracy:   87.86823248407643%\n",
      "Epoch:  17 / 30\n",
      "\t Train loss: 0.23069280367702055\n",
      "\t Test loss:  0.4241260588169098\n",
      "\t Accuracy:   87.52985668789809%\n",
      "Epoch:  18 / 30\n",
      "\t Train loss: 0.2205920462359561\n",
      "\t Test loss:  0.40693292021751404\n",
      "\t Accuracy:   87.93789808917197%\n",
      "Epoch:  19 / 30\n",
      "\t Train loss: 0.22238856984544664\n",
      "\t Test loss:  0.42494404315948486\n",
      "\t Accuracy:   87.22133757961782%\n",
      "Epoch:  20 / 30\n",
      "\t Train loss: 0.21795728307828974\n",
      "\t Test loss:  0.3845149576663971\n",
      "\t Accuracy:   88.91321656050955%\n",
      "Epoch:  21 / 30\n",
      "\t Train loss: 0.21460833208266097\n",
      "\t Test loss:  0.39688587188720703\n",
      "\t Accuracy:   88.45541401273886%\n",
      "Epoch:  22 / 30\n",
      "\t Train loss: 0.20969216507087066\n",
      "\t Test loss:  0.4338884651660919\n",
      "\t Accuracy:   87.91799363057325%\n",
      "Epoch:  23 / 30\n",
      "\t Train loss: 0.2053794711709086\n",
      "\t Test loss:  0.38158923387527466\n",
      "\t Accuracy:   88.32603503184714%\n",
      "Epoch:  24 / 30\n",
      "\t Train loss: 0.200037995420857\n",
      "\t Test loss:  0.3811090588569641\n",
      "\t Accuracy:   88.4952229299363%\n",
      "Epoch:  25 / 30\n",
      "\t Train loss: 0.204513753031585\n",
      "\t Test loss:  0.4187140464782715\n",
      "\t Accuracy:   88.31608280254777%\n",
      "Epoch:  26 / 30\n",
      "\t Train loss: 0.1945385752972573\n",
      "\t Test loss:  0.40433552861213684\n",
      "\t Accuracy:   88.59474522292994%\n",
      "Epoch:  27 / 30\n",
      "\t Train loss: 0.19708369347030547\n",
      "\t Test loss:  0.44501981139183044\n",
      "\t Accuracy:   87.86823248407643%\n",
      "Epoch:  28 / 30\n",
      "\t Train loss: 0.19009783993095858\n",
      "\t Test loss:  0.45274460315704346\n",
      "\t Accuracy:   88.37579617834395%\n",
      "Epoch:  29 / 30\n",
      "\t Train loss: 0.19316319910003177\n",
      "\t Test loss:  0.44550108909606934\n",
      "\t Accuracy:   87.36066878980891%\n",
      "Epoch:  30 / 30\n",
      "\t Train loss: 0.18510093698218497\n",
      "\t Test loss:  0.4347676932811737\n",
      "\t Accuracy:   88.45541401273886%\n"
     ]
    }
   ],
   "source": [
    "model = Classifier()\n",
    "criterion = nn.NLLLoss()\n",
    "optimizer = optim.Adam(model.parameters(), lr=0.003)\n",
    "\n",
    "epochs = 30\n",
    "steps = 0\n",
    "\n",
    "train_losses, test_losses = [], []\n",
    "for e in range(epochs):\n",
    "    running_loss = 0\n",
    "    for images, labels in trainloader:\n",
    "        \n",
    "        optimizer.zero_grad()\n",
    "        \n",
    "        log_ps = model(images)\n",
    "        loss = criterion(log_ps, labels)\n",
    "        loss.backward()\n",
    "        optimizer.step()\n",
    "        \n",
    "        running_loss += loss.item()\n",
    "        \n",
    "    else:\n",
    "        ## Implement the validation pass and print out the validation accuracy\n",
    "        \n",
    "        test_loss = 0\n",
    "        accuracy = 0\n",
    "        \n",
    "        # turn off gradients\n",
    "        with torch.no_grad():\n",
    "            # validation pass here\n",
    "            for images, labels in testloader:\n",
    "                \n",
    "                # make inference\n",
    "                outputs = model.forward(images)\n",
    "                # calculate the prediction error\n",
    "                test_loss += criterion(outputs, labels)\n",
    "                # Get the class probabilities\n",
    "                propability_scores = torch.exp(model(images))\n",
    "                # get the top rakned classes\n",
    "                top_p, top_class = propability_scores.topk(1, dim=1)\n",
    "                # compare with actual labels\n",
    "                equals = top_class == labels.view(*top_class.shape)\n",
    "                # calculate accuracy\n",
    "                accuracy += torch.mean(equals.type(torch.FloatTensor))\n",
    "                \n",
    "        train_losses.append(running_loss/len(trainloader))\n",
    "        test_losses.append(test_loss/len(testloader))\n",
    "        \n",
    "        print('Epoch: ' , (e+1), '/', epochs)\n",
    "        print('\\t', f'Train loss: {running_loss/len(trainloader)}')\n",
    "        print('\\t', f'Test loss:  {test_loss/len(testloader)}')\n",
    "        print('\\t', f'Accuracy:   {accuracy.item()/len(testloader)*100}%')"
   ]
  },
  {
   "cell_type": "code",
   "execution_count": 24,
   "metadata": {},
   "outputs": [
    {
     "data": {
      "text/plain": [
       "<matplotlib.legend.Legend at 0x7f711e447780>"
      ]
     },
     "execution_count": 24,
     "metadata": {},
     "output_type": "execute_result"
    },
    {
     "data": {
      "image/png": "[encoded data removed]",
      "text/plain": [
       "<matplotlib.figure.Figure at 0x7f71140e2ac8>"
      ]
     },
     "metadata": {
      "image/png": {
       "height": 250,
       "width": 380
      },
      "needs_background": "light"
     },
     "output_type": "display_data"
    }
   ],
   "source": [
    "%matplotlib inline\n",
    "%config InlineBackend.figure_format = 'retina'\n",
    "\n",
    "import matplotlib.pyplot as plt\n",
    "\n",
    "plt.plot(train_losses, label='Training loss')\n",
    "plt.plot(test_losses, label='Validation loss')\n",
    "plt.legend(frameon=False)"
   ]
  },
  {
   "cell_type": "markdown",
   "metadata": {},
   "source": [
    "## Overfitting\n",
    "\n",
    "If we look at the training and validation losses as we train the network, we can see a phenomenon known as overfitting.\n",
    "\n",
    "<img src='assets/overfitting.png' width=450px>\n",
    "\n",
    "The network learns the training set better and better, resulting in lower training losses. However, it starts having problems generalizing to data outside the training set leading to the validation loss increasing. The ultimate goal of any deep learning model is to make predictions on new data, so we should strive to get the lowest validation loss possible. One option is to use the version of the model with the lowest validation loss, here the one around 8-10 training epochs. This strategy is called *early-stopping*. In practice, you'd save the model frequently as you're training then later choose the model with the lowest validation loss.\n",
    "\n",
    "The most common method to reduce overfitting (outside of early-stopping) is *dropout*, where we randomly drop input units. This forces the network to share information between weights, increasing it's ability to generalize to new data. Adding dropout in PyTorch is straightforward using the [`nn.Dropout`](https://pytorch.org/docs/stable/nn.html#torch.nn.Dropout) module.\n",
    "\n",
    "```python\n",
    "class Classifier(nn.Module):\n",
    "    def __init__(self):\n",
    "        super().__init__()\n",
    "        self.fc1 = nn.Linear(784, 256)\n",
    "        self.fc2 = nn.Linear(256, 128)\n",
    "        self.fc3 = nn.Linear(128, 64)\n",
    "        self.fc4 = nn.Linear(64, 10)\n",
    "        \n",
    "        # Dropout module with 0.2 drop probability\n",
    "        self.dropout = nn.Dropout(p=0.2)\n",
    "        \n",
    "    def forward(self, x):\n",
    "        # make sure input tensor is flattened\n",
    "        x = x.view(x.shape[0], -1)\n",
    "        \n",
    "        # Now with dropout\n",
    "        x = self.dropout(F.relu(self.fc1(x)))\n",
    "        x = self.dropout(F.relu(self.fc2(x)))\n",
    "        x = self.dropout(F.relu(self.fc3(x)))\n",
    "        \n",
    "        # output so no dropout here\n",
    "        x = F.log_softmax(self.fc4(x), dim=1)\n",
    "        \n",
    "        return x\n",
    "```\n",
    "\n",
    "During training we want to use dropout to prevent overfitting, but during inference we want to use the entire network. So, we need to turn off dropout during validation, testing, and whenever we're using the network to make predictions. To do this, you use `model.eval()`. This sets the model to evaluation mode where the dropout probability is 0. You can turn dropout back on by setting the model to train mode with `model.train()`. In general, the pattern for the validation loop will look like this, where you turn off gradients, set the model to evaluation mode, calculate the validation loss and metric, then set the model back to train mode.\n",
    "\n",
    "```python\n",
    "# turn off gradients\n",
    "with torch.no_grad():\n",
    "    \n",
    "    # set model to evaluation mode\n",
    "    model.eval()\n",
    "    \n",
    "    # validation pass here\n",
    "    for images, labels in testloader:\n",
    "        ...\n",
    "\n",
    "# set model back to train mode\n",
    "model.train()\n",
    "```"
   ]
  },
  {
   "cell_type": "markdown",
   "metadata": {},
   "source": [
    "> **Exercise:** Add dropout to your model and train it on Fashion-MNIST again. See if you can get a lower validation loss or higher accuracy."
   ]
  },
  {
   "cell_type": "code",
   "execution_count": 25,
   "metadata": {},
   "outputs": [],
   "source": [
    "## TODO: Define your model with dropout added\n",
    "class ClassifierNew(nn.Module):\n",
    "    def __init__(self):\n",
    "        super().__init__();\n",
    "        \n",
    "        self.hidden1 = nn.Linear(784, 256)\n",
    "        self.hidden2 = nn.Linear(256, 128)\n",
    "        self.hidden3 = nn.Linear(128, 64)\n",
    "        self.output = nn.Linear(64, 10)\n",
    "        \n",
    "        self.dropout = nn.Dropout(p=0.2)\n",
    "        \n",
    "    def forward(self, x):\n",
    "        x = x.view(x.shape[0],-1)\n",
    "        \n",
    "        x = self.hidden1(x)\n",
    "        x = F.relu(x)\n",
    "        x= self.dropout(x)\n",
    "        \n",
    "        x = self.hidden2(x)\n",
    "        x = F.relu(x)\n",
    "        x= self.dropout(x)\n",
    "        \n",
    "        x = self.hidden3(x)\n",
    "        x = F.relu(x)\n",
    "        x= self.dropout(x)\n",
    "        \n",
    "        x = self.output(x)\n",
    "        x = F.log_softmax(x, dim=1)\n",
    "        return x\n"
   ]
  },
  {
   "cell_type": "code",
   "execution_count": 26,
   "metadata": {},
   "outputs": [
    {
     "name": "stdout",
     "output_type": "stream",
     "text": [
      "Epoch:  1 / 30\n",
      "\t Train loss: 0.6041045081672638\n",
      "\t Test loss:  0.47589051723480225\n",
      "\t Accuracy:   82.87221337579618%\n",
      "Epoch:  2 / 30\n",
      "\t Train loss: 0.48302929212988566\n",
      "\t Test loss:  0.43418267369270325\n",
      "\t Accuracy:   84.07643312101911%\n",
      "Epoch:  3 / 30\n",
      "\t Train loss: 0.45145564947301137\n",
      "\t Test loss:  0.43081134557724\n",
      "\t Accuracy:   84.17595541401273%\n",
      "Epoch:  4 / 30\n",
      "\t Train loss: 0.4341011489314565\n",
      "\t Test loss:  0.40876007080078125\n",
      "\t Accuracy:   85.89769108280255%\n",
      "Epoch:  5 / 30\n",
      "\t Train loss: 0.41838721529062367\n",
      "\t Test loss:  0.4095057249069214\n",
      "\t Accuracy:   85.27070063694268%\n",
      "Epoch:  6 / 30\n",
      "\t Train loss: 0.41016962503128723\n",
      "\t Test loss:  0.4090716540813446\n",
      "\t Accuracy:   85.11146496815286%\n",
      "Epoch:  7 / 30\n",
      "\t Train loss: 0.4034014779494515\n",
      "\t Test loss:  0.404047429561615\n",
      "\t Accuracy:   86.23606687898089%\n",
      "Epoch:  8 / 30\n",
      "\t Train loss: 0.4002863169590166\n",
      "\t Test loss:  0.4052758514881134\n",
      "\t Accuracy:   85.67874203821655%\n",
      "Epoch:  9 / 30\n",
      "\t Train loss: 0.38855825274038924\n",
      "\t Test loss:  0.3940016031265259\n",
      "\t Accuracy:   86.41520700636943%\n",
      "Epoch:  10 / 30\n",
      "\t Train loss: 0.38979555915858444\n",
      "\t Test loss:  0.38811203837394714\n",
      "\t Accuracy:   86.94267515923568%\n",
      "Epoch:  11 / 30\n",
      "\t Train loss: 0.3892411951825563\n",
      "\t Test loss:  0.37229689955711365\n",
      "\t Accuracy:   86.41520700636943%\n",
      "Epoch:  12 / 30\n",
      "\t Train loss: 0.3808395849393883\n",
      "\t Test loss:  0.4044930934906006\n",
      "\t Accuracy:   85.96735668789809%\n",
      "Epoch:  13 / 30\n",
      "\t Train loss: 0.37967544646341916\n",
      "\t Test loss:  0.3713299036026001\n",
      "\t Accuracy:   87.25119426751591%\n",
      "Epoch:  14 / 30\n",
      "\t Train loss: 0.380613276794521\n",
      "\t Test loss:  0.37465357780456543\n",
      "\t Accuracy:   86.87300955414013%\n",
      "Epoch:  15 / 30\n",
      "\t Train loss: 0.3759831757243\n",
      "\t Test loss:  0.3666154146194458\n",
      "\t Accuracy:   87.05214968152866%\n",
      "Epoch:  16 / 30\n",
      "\t Train loss: 0.3634397724925328\n",
      "\t Test loss:  0.38105928897857666\n",
      "\t Accuracy:   87.08200636942675%\n",
      "Epoch:  17 / 30\n",
      "\t Train loss: 0.3627643676470719\n",
      "\t Test loss:  0.3961012363433838\n",
      "\t Accuracy:   86.75358280254777%\n",
      "Epoch:  18 / 30\n",
      "\t Train loss: 0.36292875345264164\n",
      "\t Test loss:  0.3814510405063629\n",
      "\t Accuracy:   87.19148089171973%\n",
      "Epoch:  19 / 30\n",
      "\t Train loss: 0.3594161994072166\n",
      "\t Test loss:  0.3795884847640991\n",
      "\t Accuracy:   87.56966560509554%\n",
      "Epoch:  20 / 30\n",
      "\t Train loss: 0.36085143180957224\n",
      "\t Test loss:  0.38058337569236755\n",
      "\t Accuracy:   86.90286624203821%\n",
      "Epoch:  21 / 30\n",
      "\t Train loss: 0.3532553519855049\n",
      "\t Test loss:  0.37656235694885254\n",
      "\t Accuracy:   87.13176751592357%\n",
      "Epoch:  22 / 30\n",
      "\t Train loss: 0.3553400170256588\n",
      "\t Test loss:  0.3991878628730774\n",
      "\t Accuracy:   86.91281847133759%\n",
      "Epoch:  23 / 30\n",
      "\t Train loss: 0.3574692336147401\n",
      "\t Test loss:  0.3819214701652527\n",
      "\t Accuracy:   86.58439490445859%\n",
      "Epoch:  24 / 30\n",
      "\t Train loss: 0.35398876369158344\n",
      "\t Test loss:  0.3920937180519104\n",
      "\t Accuracy:   87.08200636942675%\n",
      "Epoch:  25 / 30\n",
      "\t Train loss: 0.34939344200307626\n",
      "\t Test loss:  0.3928074538707733\n",
      "\t Accuracy:   86.80334394904459%\n",
      "Epoch:  26 / 30\n",
      "\t Train loss: 0.3550908590938999\n",
      "\t Test loss:  0.3840116560459137\n",
      "\t Accuracy:   86.32563694267516%\n",
      "Epoch:  27 / 30\n",
      "\t Train loss: 0.34432899739061085\n",
      "\t Test loss:  0.3734114468097687\n",
      "\t Accuracy:   87.50995222929936%\n",
      "Epoch:  28 / 30\n",
      "\t Train loss: 0.34286945678595543\n",
      "\t Test loss:  0.37008482217788696\n",
      "\t Accuracy:   87.34076433121018%\n",
      "Epoch:  29 / 30\n",
      "\t Train loss: 0.338820602625672\n",
      "\t Test loss:  0.3693094551563263\n",
      "\t Accuracy:   87.68909235668791%\n",
      "Epoch:  30 / 30\n",
      "\t Train loss: 0.3446229879281668\n",
      "\t Test loss:  0.3714940845966339\n",
      "\t Accuracy:   87.53980891719745%\n"
     ]
    }
   ],
   "source": [
    "## TODO: Train your model with dropout, and monitor the training progress with the validation loss and accuracy\n",
    "\n",
    "model = ClassifierNew()\n",
    "criterion = nn.NLLLoss()\n",
    "optimizer = optim.Adam(model.parameters(), lr=0.003)\n",
    "\n",
    "epochs = 30\n",
    "steps = 0\n",
    "\n",
    "train_losses, test_losses = [], []\n",
    "for e in range(epochs):\n",
    "    running_loss = 0\n",
    "    for images, labels in trainloader:\n",
    "        \n",
    "        optimizer.zero_grad()\n",
    "        \n",
    "        log_ps = model(images)\n",
    "        loss = criterion(log_ps, labels)\n",
    "        loss.backward()\n",
    "        optimizer.step()\n",
    "        \n",
    "        running_loss += loss.item()\n",
    "        \n",
    "    else:\n",
    "        ## Implement the validation pass and print out the validation accuracy\n",
    "        \n",
    "        test_loss = 0\n",
    "        accuracy = 0\n",
    "        \n",
    "        # turn off gradients\n",
    "        with torch.no_grad():\n",
    "            \n",
    "            # set model to evaluation mode\n",
    "            model.eval()\n",
    "            \n",
    "            # validation pass here\n",
    "            for images, labels in testloader:\n",
    "                \n",
    "                # make inference\n",
    "                outputs = model.forward(images)\n",
    "                # calculate the prediction error\n",
    "                test_loss += criterion(outputs, labels)\n",
    "                # Get the class probabilities\n",
    "                propability_scores = torch.exp(model(images))\n",
    "                # get the top rakned classes\n",
    "                top_p, top_class = propability_scores.topk(1, dim=1)\n",
    "                # compare with actual labels\n",
    "                equals = top_class == labels.view(*top_class.shape)\n",
    "                # calculate accuracy\n",
    "                accuracy += torch.mean(equals.type(torch.FloatTensor))\n",
    "            \n",
    "            # set model back to train mode\n",
    "            model.train()\n",
    "                \n",
    "        train_losses.append(running_loss/len(trainloader))\n",
    "        test_losses.append(test_loss/len(testloader))\n",
    "        \n",
    "        print('Epoch: ' , (e+1), '/', epochs)\n",
    "        print('\\t', f'Train loss: {running_loss/len(trainloader)}')\n",
    "        print('\\t', f'Test loss:  {test_loss/len(testloader)}')\n",
    "        print('\\t', f'Accuracy:   {accuracy.item()/len(testloader)*100}%')"
   ]
  },
  {
   "cell_type": "code",
   "execution_count": 27,
   "metadata": {},
   "outputs": [
    {
     "data": {
      "text/plain": [
       "<matplotlib.legend.Legend at 0x7f711e3d2c50>"
      ]
     },
     "execution_count": 27,
     "metadata": {},
     "output_type": "execute_result"
    },
    {
     "data": {
      "image/png": "[encoded data removed]",
      "text/plain": [
       "<matplotlib.figure.Figure at 0x7f71140e2898>"
      ]
     },
     "metadata": {
      "image/png": {
       "height": 250,
       "width": 380
      },
      "needs_background": "light"
     },
     "output_type": "display_data"
    }
   ],
   "source": [
    "%matplotlib inline\n",
    "%config InlineBackend.figure_format = 'retina'\n",
    "\n",
    "import matplotlib.pyplot as plt\n",
    "\n",
    "plt.plot(train_losses, label='Training loss')\n",
    "plt.plot(test_losses, label='Validation loss')\n",
    "plt.legend(frameon=False)"
   ]
  },
  {
   "cell_type": "markdown",
   "metadata": {},
   "source": [
    "## Inference\n",
    "\n",
    "Now that the model is trained, we can use it for inference. We've done this before, but now we need to remember to set the model in inference mode with `model.eval()`. You'll also want to turn off autograd with the `torch.no_grad()` context."
   ]
  },
  {
   "cell_type": "code",
   "execution_count": 29,
   "metadata": {},
   "outputs": [
    {
     "data": {
      "image/png": "[encoded data removed]",
      "text/plain": [
       "<matplotlib.figure.Figure at 0x7f711e43f1d0>"
      ]
     },
     "metadata": {
      "image/png": {
       "height": 204,
       "width": 423
      },
      "needs_background": "light"
     },
     "output_type": "display_data"
    }
   ],
   "source": [
    "# Import helper module (should be in the repo)\n",
    "import helper\n",
    "\n",
    "# Test out your network!\n",
    "\n",
    "model.eval()\n",
    "\n",
    "dataiter = iter(testloader)\n",
    "images, labels = dataiter.next()\n",
    "img = images[0]\n",
    "# Convert 2D image to 1D vector\n",
    "img = img.view(1, 784)\n",
    "\n",
    "# Calculate the class probabilities (softmax) for img\n",
    "with torch.no_grad():\n",
    "    output = model.forward(img)\n",
    "\n",
    "ps = torch.exp(output)\n",
    "\n",
    "# Plot the image and probabilities\n",
    "helper.view_classify(img.view(1, 28, 28), ps, version='Fashion')"
   ]
  },
  {
   "cell_type": "markdown",
   "metadata": {},
   "source": [
    "## Next Up!\n",
    "\n",
    "In the next part, I'll show you how to save your trained models. In general, you won't want to train a model everytime you need it. Instead, you'll train once, save it, then load the model when you want to train more or use if for inference."
   ]
  },
  {
   "cell_type": "code",
   "execution_count": null,
   "metadata": {},
   "outputs": [],
   "source": []
  }
 ],
 "metadata": {
  "kernelspec": {
   "display_name": "Python 3",
   "language": "python",
   "name": "python3"
  },
  "language_info": {
   "codemirror_mode": {
    "name": "ipython",
    "version": 3
   },
   "file_extension": ".py",
   "mimetype": "text/x-python",
   "name": "python",
   "nbconvert_exporter": "python",
   "pygments_lexer": "ipython3",
   "version": "3.6.3"
  }
 },
 "nbformat": 4,
 "nbformat_minor": 2
}
